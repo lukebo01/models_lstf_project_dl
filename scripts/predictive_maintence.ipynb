{
 "cells": [
  {
   "cell_type": "markdown",
   "metadata": {},
   "source": [
    "### Pre-elaborazione del dataset\n",
    "\n",
    "TSLib si aspetta dataset in un formato standard (tipicamente con train, validation e test). Potresti dover creare uno script di preprocessing per:\n",
    "\n",
    "- Convertire la colonna date in formato datetime.\n",
    "- Ordinare i dati cronologicamente.\n",
    "- Dividere il dataset in train/validation/test (ad es. 70%/15%/15%)."
   ]
  },
  {
   "cell_type": "code",
   "execution_count": 1,
   "metadata": {},
   "outputs": [
    {
     "name": "stdout",
     "output_type": "stream",
     "text": [
      "File salvato con le colonne riordinate: ..\\data\\final\\B101_50khz_downsampled_reduced_2.csv\n"
     ]
    }
   ],
   "source": [
    "from pathlib import Path\n",
    "import pandas as pd\n",
    "\n",
    "# Definisci il percorso del file CSV\n",
    "data_path = Path(\"../data/final/B101_50khz_downsampled_reduced.csv\")\n",
    "output_path = Path(\"../data/final/B101_50khz_downsampled_reduced_2.csv\")\n",
    "\n",
    "# Leggi il CSV\n",
    "df = pd.read_csv(data_path)\n",
    "\n",
    "# Controlla che la colonna \"date\" esista\n",
    "if \"date\" not in df.columns:\n",
    "    print(\"La colonna 'date' non è presente nel dataset.\")\n",
    "else:\n",
    "    # Crea una lista delle colonne e rimuove \"date\"\n",
    "    cols = list(df.columns)\n",
    "    cols.remove(\"date\")\n",
    "    \n",
    "    # Nuovo ordine: prima la colonna \"date\", poi tutte le altre\n",
    "    new_order = [\"date\"] + cols\n",
    "    \n",
    "    # Riordina il dataframe\n",
    "    df = df[new_order]\n",
    "    \n",
    "    # Salva il nuovo CSV\n",
    "    df.to_csv(output_path, index=False)\n",
    "    print(f\"File salvato con le colonne riordinate: {output_path}\")\n"
   ]
  },
  {
   "cell_type": "code",
   "execution_count": 4,
   "metadata": {},
   "outputs": [
    {
     "name": "stdout",
     "output_type": "stream",
     "text": [
      "Preprocessing completato!\n"
     ]
    }
   ],
   "source": [
    "import pandas as pd\n",
    "from pathlib import Path\n",
    "\n",
    "# Leggi il CSV\n",
    "data_path = Path(\"../data/final/predictive_maintenance/cleaned_predictive_maintenance.csv\")\n",
    "df = pd.read_csv(data_path)\n",
    "\n",
    "# Converti la colonna date\n",
    "df['date'] = pd.to_datetime(df['date'])\n",
    "\n",
    "# Ordina per data (se non già ordinato)\n",
    "df = df.sort_values(by='date')\n",
    "\n",
    "# Dividi il dataset (ad es. 70% train, 15% val, 15% test)\n",
    "n = len(df)\n",
    "train_df = df.iloc[: int(0.7 * n)]\n",
    "val_df = df.iloc[int(0.7 * n) : int(0.85 * n)]\n",
    "test_df = df.iloc[int(0.85 * n) :]\n",
    "\n",
    "# Salva i file\n",
    "train_df.to_csv(\"../data/final/predictive_maintenance/train.csv\", index=False)\n",
    "val_df.to_csv(\"../data/final/predictive_maintenance/val.csv\", index=False)\n",
    "test_df.to_csv(\"../data/final/predictive_maintenance/test.csv\", index=False)\n",
    "\n",
    "print(\"Preprocessing completato!\")\n"
   ]
  },
  {
   "cell_type": "code",
   "execution_count": null,
   "metadata": {},
   "outputs": [],
   "source": []
  }
 ],
 "metadata": {
  "kernelspec": {
   "display_name": ".venv",
   "language": "python",
   "name": "python3"
  },
  "language_info": {
   "codemirror_mode": {
    "name": "ipython",
    "version": 3
   },
   "file_extension": ".py",
   "mimetype": "text/x-python",
   "name": "python",
   "nbconvert_exporter": "python",
   "pygments_lexer": "ipython3",
   "version": "3.8.0"
  }
 },
 "nbformat": 4,
 "nbformat_minor": 2
}
